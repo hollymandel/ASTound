{
 "cells": [
  {
   "cell_type": "markdown",
   "id": "e524a197-f399-4ed1-9aae-28be4979e3ae",
   "metadata": {},
   "source": [
    "`astound` is a recursive code explainer powered by Claude. Enter some source code (`source1`) and then build a tree by navigating the abstract syntax tree (`ast`). If you encounter a reference outside `source1`, attach a new source `source2` as a child and continue navigating. Once you have attached all the nodes you want explained, navigate up to the top of the tree and call `summarize_down` to obtain a recursive summary of the current node and its children.\n",
    "\n",
    "Want to understand how `astound` works? You're in luck! "
   ]
  },
  {
   "cell_type": "code",
   "execution_count": 1,
   "id": "edb57fd4-6886-49c0-b522-1d562fac5ae4",
   "metadata": {},
   "outputs": [],
   "source": [
    "import ast\n",
    "import astound"
   ]
  },
  {
   "cell_type": "code",
   "execution_count": null,
   "id": "83e867e6-e0b6-46dd-8b5c-65baf0d2f93e",
   "metadata": {},
   "outputs": [],
   "source": [
    "cursor = astound.cursor."
   ]
  }
 ],
 "metadata": {
  "kernelspec": {
   "display_name": "autoferret env",
   "language": "python",
   "name": "autoferret-env"
  },
  "language_info": {
   "codemirror_mode": {
    "name": "ipython",
    "version": 3
   },
   "file_extension": ".py",
   "mimetype": "text/x-python",
   "name": "python",
   "nbconvert_exporter": "python",
   "pygments_lexer": "ipython3",
   "version": "3.10.9"
  }
 },
 "nbformat": 4,
 "nbformat_minor": 5
}
