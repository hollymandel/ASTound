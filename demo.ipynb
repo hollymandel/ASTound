{
 "cells": [
  {
   "cell_type": "code",
   "execution_count": 1,
   "id": "ea6c044d-822a-439f-8aa1-5d3010af7507",
   "metadata": {},
   "outputs": [],
   "source": [
    "from astound.smartnode import Node, Source\n",
    "from astound import summarize\n",
    "from astound.cursor import Cursor\n",
    "import ast\n",
    "import logging\n",
    "\n",
    "logging.basicConfig(level=logging.ERROR)"
   ]
  },
  {
   "cell_type": "code",
   "execution_count": 2,
   "id": "5f6ea9ce-f82b-4c43-a894-cb266258ae8e",
   "metadata": {},
   "outputs": [
    {
     "data": {
      "text/plain": [
       "CURSOR :: You are 0 edges down from the root.\n",
       "The current node has type Module.\n",
       "\n",
       "The unattached subnodes of the current node are as follows:\n",
       "  Assign.targets >> Attribute.value >> truncated at Attribute 'settings' at key '10, 0'\n",
       "  Assign.targets >> Name 'ALIASES' at key '14, 0'\n",
       "  Assign.targets >> Name 'RICH_TYPES' at key '21, 0'\n",
       "  Assign.value >> Tuple.elts >> truncated at Attribute 'Module' at key '22, 4'\n",
       "  Assign.value >> Tuple.elts >> truncated at Attribute 'FunctionDef' at key '23, 4'\n",
       "  Assign.value >> Tuple.elts >> truncated at Attribute 'AsyncFunctionDef' at key '24, 4'\n",
       "  Assign.value >> Tuple.elts >> truncated at Attribute 'ClassDef' at key '25, 4'\n",
       "  Assign.value >> Tuple.elts >> truncated at Attribute 'Name' at key '26, 4'\n",
       "  Assign.targets >> Name 'SKIP_TYPES' at key '29, 0'\n",
       "  Assign.targets >> Name 'ast_node_types' at key '29, 13'\n",
       "  Assign.value >> Dict.keys >> truncated at Attribute 'Expr' at key '30, 4'\n",
       "  Assign.value >> Dict.keys >> truncated at Attribute 'Return' at key '31, 4'\n",
       "  Assign.value >> Dict.keys >> truncated at Attribute 'Yield' at key '32, 4'\n",
       "  Assign.value >> Dict.keys >> truncated at Attribute 'Await' at key '33, 4'\n",
       "  Assign.value >> Dict.keys >> truncated at Attribute 'UnaryOp' at key '34, 4'\n",
       "  Assign.value >> Dict.keys >> truncated at Attribute 'Not' at key '35, 4'\n",
       "  Assign.value >> Dict.keys >> truncated at Attribute 'Assert' at key '36, 4'\n",
       "  Assign.value >> Dict.keys >> truncated at Attribute 'Constant' at key '37, 4'\n",
       "  Assign.value >> Dict.keys >> truncated at Attribute 'Load' at key '38, 4'\n",
       "  Assign.value >> Dict.keys >> truncated at Attribute 'Eq' at key '39, 4'\n",
       "  FunctionDef 'get_ast_tuplestr' at key '42, 0'\n",
       "  FunctionDef 'tuplestr_to_tuple' at key '45, 0'\n",
       "  FunctionDef 'is_rich_type' at key '49, 0'\n",
       "  FunctionDef 'pretty_type' at key '52, 0'\n",
       "  ClassDef 'ExtractFunctionSource' at key '55, 0'\n",
       "  ClassDef 'Source' at key '67, 0'\n",
       "  ClassDef 'Node' at key '76, 0'\n",
       "\n",
       "The children of the current node are as follows:"
      ]
     },
     "execution_count": 2,
     "metadata": {},
     "output_type": "execute_result"
    }
   ],
   "source": [
    "source = Source(\"astound/smartnode.py\")\n",
    "cursor = Cursor(root = source)\n",
    "cursor"
   ]
  },
  {
   "cell_type": "code",
   "execution_count": 3,
   "id": "64471ff6-969a-4296-a556-19befafcc556",
   "metadata": {},
   "outputs": [
    {
     "name": "stdout",
     "output_type": "stream",
     "text": [
      "CURSOR :: You are 1 edges down from the root.\n",
      "The current node has type ClassDef.\n",
      "\n",
      "The unattached subnodes of the current node are as follows:\n",
      "  Assign.targets >> Name 'sqlite_conn' at key '78, 4'\n",
      "  Assign.value >> Call.func >> truncated at Attribute 'connect' at key '78, 18'\n",
      "  Assign.targets >> Name 'anthropic_client' at key '79, 4'\n",
      "  Assign.value >> Call.func >> truncated at Attribute 'Anthropic' at key '79, 23'\n",
      "  FunctionDef '__init__' at key '81, 4'\n",
      "  FunctionDef 'name' at key '106, 4'\n",
      "  FunctionDef 'split' at key '118, 4'\n",
      "  FunctionDef 'body' at key '162, 4'\n",
      "  FunctionDef '__repr__' at key '172, 4'\n",
      "  FunctionDef 'infer_inheritance' at key '189, 4'\n",
      "  FunctionDef 'get_subnode' at key '202, 4'\n",
      "  FunctionDef 'print_unattached_subnodes' at key '209, 4'\n",
      "  FunctionDef 'attach_subnode' at key '221, 4'\n",
      "  FunctionDef 'attach_manual' at key '229, 4'\n",
      "  FunctionDef 'print_children' at key '232, 4'\n",
      "  FunctionDef 'get_text' at key '239, 4'\n",
      "  FunctionDef 'get_function_def' at key '247, 4'\n",
      "\n",
      "The children of the current node are as follows:\n",
      "\n"
     ]
    }
   ],
   "source": [
    "cursor.down(\"76,0\")"
   ]
  },
  {
   "cell_type": "code",
   "execution_count": 4,
   "id": "9d7ade85-3403-40e5-bcd8-949817ed27b8",
   "metadata": {},
   "outputs": [
    {
     "name": "stdout",
     "output_type": "stream",
     "text": [
      "CURSOR :: You are 2 edges down from the root.\n",
      "The current node has type FunctionDef.\n",
      "\n",
      "The unattached subnodes of the current node are as follows:\n",
      "  If.test >> Call.func >> Name 'is_rich_type' at key '123, 11'\n",
      "  If.test >> Call.args >> truncated at Attribute 'ast_node' at key '123, 24'\n",
      "  If.body >> List.elts >> truncated at Tuple '' at key '124, 21'\n",
      "  If.test >> Compare.left >> Name 'max_depth' at key '125, 11'\n",
      "  If.body >> If.test >> truncated at Call '' at key '126, 15'\n",
      "  If.body >> If.body >> truncated at List '' at key '127, 23'\n",
      "  If.body >> If.orelse >> truncated at List '' at key '129, 23'\n",
      "  Assign.targets >> Name 'components' at key '131, 8'\n",
      "  Assign.targets >> Name 'self_type' at key '133, 8'\n",
      "  Assign.value >> Call.func >> Name 'pretty_type' at key '133, 20'\n",
      "  Assign.value >> Call.args >> truncated at Attribute 'ast_node' at key '133, 32'\n",
      "  Assign.targets >> Name 'field_list' at key '134, 8'\n",
      "  Assign.value >> Call.func >> Name 'parser_type_query' at key '134, 21'\n",
      "  Assign.value >> Call.args >> Name 'self_type' at key '135, 12'\n",
      "  Assign.value >> Call.args >> truncated at Attribute 'anthropic_client' at key '136, 12'\n",
      "  Assign.value >> Call.args >> truncated at Attribute 'sqlite_conn' at key '137, 12'\n",
      "  Assign.targets >> Name 'field_list' at key '139, 8'\n",
      "  Assign.value >> Call.func >> truncated at Attribute 'split' at key '139, 21'\n",
      "  Assign.targets >> Name 'field_list' at key '140, 8'\n",
      "  Assign.value >> ListComp.elt >> Name 'x' at key '140, 23'\n",
      "  For.body >> Try.body >> truncated at Assign '' at key '144, 16'\n",
      "  For.body >> Try.handlers >> truncated at ExceptHandler '' at key '145, 12'\n",
      "  For.body >> If.test >> truncated at Call '' at key '148, 15'\n",
      "  For.body >> If.body >> truncated at For '' at key '149, 16'\n",
      "  For.body >> If.orelse >> truncated at If '' at key '155, 16'\n",
      "  Name 'components' at key '160, 15'\n",
      "\n",
      "The children of the current node are as follows:\n",
      "\n"
     ]
    }
   ],
   "source": [
    "cursor.down(\"118,4\")"
   ]
  },
  {
   "cell_type": "code",
   "execution_count": 5,
   "id": "91356892-304e-48f5-b2f9-0737f3403f43",
   "metadata": {},
   "outputs": [
    {
     "name": "stdout",
     "output_type": "stream",
     "text": [
      "CURSOR :: You are 3 edges down from the root.\n",
      "The current node has type Name.\n",
      "\n",
      "The unattached subnodes of the current node are as follows:\n",
      "\n",
      "The children of the current node are as follows:\n",
      "\n"
     ]
    }
   ],
   "source": [
    "cursor.down(\"134,21\")"
   ]
  },
  {
   "cell_type": "code",
   "execution_count": 10,
   "id": "ee57fa3c-b196-4522-9400-497a2347e0d8",
   "metadata": {},
   "outputs": [],
   "source": [
    "source2 = Source(\"astound/smartparse.py\")\n",
    "cursor.link_source(\"smartparse\", source2)"
   ]
  },
  {
   "cell_type": "code",
   "execution_count": 11,
   "id": "47352abc-1035-47fe-bd46-c77548158e71",
   "metadata": {},
   "outputs": [],
   "source": [
    "cursor.up()\n",
    "cursor.up()\n",
    "cursor.summarize_down()"
   ]
  },
  {
   "cell_type": "code",
   "execution_count": 14,
   "id": "5c3934c2-ee8e-43fb-8cad-786245d175b3",
   "metadata": {},
   "outputs": [
    {
     "data": {
      "text/plain": [
       "'The Python code defines a `Node` class that provides methods for recursive summarization of abstract syntax trees (ASTs) generated from Python code. The class initializes a `Node` object with an AST node, a source code object, and a parent node, and it offers various methods to manipulate and traverse the AST, such as retrieving the name of the AST node, splitting composite nodes into their components, and attaching or retrieving child nodes. The code also includes a utility function called `parser_type_query()` that is part of a larger system for efficiently storing and retrieving information about the subfields of Python AST nodes.'"
      ]
     },
     "execution_count": 14,
     "metadata": {},
     "output_type": "execute_result"
    }
   ],
   "source": []
  },
  {
   "cell_type": "code",
   "execution_count": null,
   "id": "ed4415c9-b8ac-44fb-a4be-a53f853d9f5a",
   "metadata": {},
   "outputs": [],
   "source": []
  }
 ],
 "metadata": {
  "kernelspec": {
   "display_name": "autoferret env",
   "language": "python",
   "name": "autoferret-env"
  },
  "language_info": {
   "codemirror_mode": {
    "name": "ipython",
    "version": 3
   },
   "file_extension": ".py",
   "mimetype": "text/x-python",
   "name": "python",
   "nbconvert_exporter": "python",
   "pygments_lexer": "ipython3",
   "version": "3.10.9"
  }
 },
 "nbformat": 4,
 "nbformat_minor": 5
}
