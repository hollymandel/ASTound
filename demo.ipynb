{
 "cells": [
  {
   "cell_type": "markdown",
   "id": "e524a197-f399-4ed1-9aae-28be4979e3ae",
   "metadata": {},
   "source": [
    "`astound` is a recursive code explainer powered by Claude. Enter some source code (`source1`) and then build a tree by navigating the abstract syntax tree (`ast`). If you encounter a reference outside `source1`, attach a new source `source2` as a child and continue navigating. Once you have attached all the nodes you want explained, navigate up to the top of the tree and call `summarize_down` to obtain a recursive summary of the current node and its children.\n",
    "\n",
    "Want to understand how `astound` works? You're in luck! "
   ]
  },
  {
   "cell_type": "code",
   "execution_count": 1,
   "id": "edb57fd4-6886-49c0-b522-1d562fac5ae4",
   "metadata": {},
   "outputs": [
    {
     "ename": "NoAnthropicAPIKey",
     "evalue": "An Anthropic API key must be supplied either as an environment variable (ANTHROPIC_API_KEY) or in astound/config.json",
     "output_type": "error",
     "traceback": [
      "\u001b[0;31m---------------------------------------------------------------------------\u001b[0m",
      "\u001b[0;31mNoAnthropicAPIKey\u001b[0m                         Traceback (most recent call last)",
      "Cell \u001b[0;32mIn[1], line 2\u001b[0m\n\u001b[1;32m      1\u001b[0m \u001b[38;5;28;01mimport\u001b[39;00m \u001b[38;5;21;01mast\u001b[39;00m\n\u001b[0;32m----> 2\u001b[0m \u001b[38;5;28;01mimport\u001b[39;00m \u001b[38;5;21;01mastound\u001b[39;00m\n",
      "File \u001b[0;32m~/astound/astound/__init__.py:20\u001b[0m\n\u001b[1;32m     18\u001b[0m api_key \u001b[38;5;241m=\u001b[39m os\u001b[38;5;241m.\u001b[39mgetenv(\u001b[38;5;124m'\u001b[39m\u001b[38;5;124mANTHROPIdC_API_KEY\u001b[39m\u001b[38;5;124m'\u001b[39m, astound_config[\u001b[38;5;124m\"\u001b[39m\u001b[38;5;124mapi_key\u001b[39m\u001b[38;5;124m\"\u001b[39m])\n\u001b[1;32m     19\u001b[0m \u001b[38;5;28;01mif\u001b[39;00m \u001b[38;5;129;01mnot\u001b[39;00m api_key:\n\u001b[0;32m---> 20\u001b[0m     \u001b[38;5;28;01mraise\u001b[39;00m NoAnthropicAPIKey(\u001b[38;5;124m\"\u001b[39m\u001b[38;5;124mAn Anthropic API key must be supplied either as an environment variable (ANTHROPIC_API_KEY) or in astound/config.json\u001b[39m\u001b[38;5;124m\"\u001b[39m)\n",
      "\u001b[0;31mNoAnthropicAPIKey\u001b[0m: An Anthropic API key must be supplied either as an environment variable (ANTHROPIC_API_KEY) or in astound/config.json"
     ]
    }
   ],
   "source": [
    "import ast\n",
    "import astound"
   ]
  },
  {
   "cell_type": "code",
   "execution_count": null,
   "id": "968ef95a-2ec2-4887-add6-4f8b43271f1e",
   "metadata": {},
   "outputs": [],
   "source": [
    "from astound import api_key\n",
    "api_key"
   ]
  },
  {
   "cell_type": "code",
   "execution_count": null,
   "id": "bb82564c-1b9f-442a-ae80-1e4045bf39a8",
   "metadata": {},
   "outputs": [],
   "source": [
    "api_key is None"
   ]
  },
  {
   "cell_type": "code",
   "execution_count": null,
   "id": "83e867e6-e0b6-46dd-8b5c-65baf0d2f93e",
   "metadata": {},
   "outputs": [],
   "source": [
    "cursor = astound.cursor."
   ]
  },
  {
   "cell_type": "code",
   "execution_count": null,
   "id": "c775001a-2079-4421-82c2-643c9d3795b5",
   "metadata": {},
   "outputs": [],
   "source": [
    "import os"
   ]
  },
  {
   "cell_type": "code",
   "execution_count": null,
   "id": "d9ff0c23-3e00-4fbb-8fa3-21bd68febf4a",
   "metadata": {},
   "outputs": [],
   "source": [
    "x = os.getenv('ANTHROPIadC_API_KEY','34')"
   ]
  },
  {
   "cell_type": "code",
   "execution_count": null,
   "id": "9ba9bd44-71bd-4e7e-93a3-72a858884df6",
   "metadata": {},
   "outputs": [],
   "source": [
    "x"
   ]
  },
  {
   "cell_type": "code",
   "execution_count": null,
   "id": "fdaab361-3a68-4d77-ba0b-a52705ab7581",
   "metadata": {},
   "outputs": [],
   "source": []
  }
 ],
 "metadata": {
  "kernelspec": {
   "display_name": "autoferret env",
   "language": "python",
   "name": "autoferret-env"
  },
  "language_info": {
   "codemirror_mode": {
    "name": "ipython",
    "version": 3
   },
   "file_extension": ".py",
   "mimetype": "text/x-python",
   "name": "python",
   "nbconvert_exporter": "python",
   "pygments_lexer": "ipython3",
   "version": "3.10.9"
  }
 },
 "nbformat": 4,
 "nbformat_minor": 5
}
