{
 "cells": [
  {
   "cell_type": "code",
   "execution_count": 1,
   "id": "ea6c044d-822a-439f-8aa1-5d3010af7507",
   "metadata": {},
   "outputs": [],
   "source": [
    "from astound.smartnode import Node, SmartNode, Source\n",
    "from astound import summarize\n",
    "from astound.cursor import Cursor\n",
    "import ast"
   ]
  },
  {
   "cell_type": "code",
   "execution_count": 2,
   "id": "5f6ea9ce-f82b-4c43-a894-cb266258ae8e",
   "metadata": {},
   "outputs": [
    {
     "data": {
      "text/plain": [
       "You are navigating 'demo'. You are 0 edges down from the root.\n",
       "The current node has type Module.\n",
       "\n",
       "The children of the current node are as follows:\n",
       "( >> ClassDef 'ParamNameWithEquals' at (29, 0), '')\n",
       "( >> FunctionDef '_get_signature_param_names' at (34, 0), '')\n",
       "( >> FunctionDef '_must_be_kwarg' at (46, 0), '')\n",
       "( >> FunctionDef 'filter_names' at (68, 0), '')\n",
       "( >> FunctionDef '_remove_duplicates' at (96, 0), '')\n",
       "( >> FunctionDef 'get_user_context' at (101, 0), '')\n",
       "( >> FunctionDef 'get_flow_scope_node' at (109, 0), '')\n",
       "( >> FunctionDef 'complete_param_names' at (118, 0), '')\n",
       "( >> ClassDef 'Completion' at (124, 0), '')\n",
       "( >> FunctionDef '_gather_nodes' at (485, 0), '')\n",
       "( >> Name '_string_start' at (495, 0), 'Assign.target/')\n",
       "( >> Attribute 'compile' at (495, 16), 'Assign.value/Call.func/')\n",
       "( >> FunctionDef '_extract_string_while_in_string' at (498, 0), '')\n",
       "( >> FunctionDef 'complete_trailer' at (546, 0), '')\n",
       "( >> FunctionDef '_complete_getattr' at (563, 0), '')\n",
       "( >> FunctionDef 'search_in_module' at (627, 0), '')"
      ]
     },
     "execution_count": 2,
     "metadata": {},
     "output_type": "execute_result"
    }
   ],
   "source": [
    "source = Source(\"1\", \"demo_source.py\")\n",
    "cursor = Cursor(\"demo\", source)\n",
    "cursor"
   ]
  },
  {
   "cell_type": "code",
   "execution_count": 3,
   "id": "3332f6af-dca1-43df-be94-6c172aa23bb9",
   "metadata": {},
   "outputs": [
    {
     "name": "stdout",
     "output_type": "stream",
     "text": [
      "You are navigating 'demo'. You are 1 edges down from the root.\n",
      "The current node has type ClassDef.\n",
      "\n",
      "The children of the current node are as follows:\n",
      "( >> FunctionDef 'get_public_name' at (30, 4), '')\n",
      "\n"
     ]
    }
   ],
   "source": [
    "cursor.down(29,0)"
   ]
  },
  {
   "cell_type": "code",
   "execution_count": 4,
   "id": "f0152ab7-2e03-4a60-bba6-8d34f8fe2a9e",
   "metadata": {},
   "outputs": [
    {
     "name": "stdout",
     "output_type": "stream",
     "text": [
      "You are navigating 'demo'. You are 2 edges down from the root.\n",
      "The current node has type FunctionDef.\n",
      "\n",
      "The children of the current node are as follows:\n",
      "\n"
     ]
    }
   ],
   "source": [
    "cursor.down(30,4)"
   ]
  },
  {
   "cell_type": "code",
   "execution_count": 5,
   "id": "3498d005-3082-4012-8ed9-af6620ad4f70",
   "metadata": {},
   "outputs": [
    {
     "name": "stdout",
     "output_type": "stream",
     "text": [
      "You are navigating 'demo'. You are 1 edges down from the root.\n",
      "The current node has type ClassDef.\n",
      "\n",
      "The children of the current node are as follows:\n",
      "( >> FunctionDef 'get_public_name' at (30, 4), '')\n",
      "\n"
     ]
    }
   ],
   "source": [
    "cursor.up()"
   ]
  },
  {
   "cell_type": "code",
   "execution_count": 6,
   "id": "00cc105c-a920-48d9-96f0-a55c73c08832",
   "metadata": {},
   "outputs": [
    {
     "data": {
      "text/plain": [
       "\"The `ParamNameWithEquals` class is a subclass of `ParamNameWrapper` that provides a method to generate a public-facing representation of an object's name by appending an equal sign to the `string_name` property.\""
      ]
     },
     "execution_count": 6,
     "metadata": {},
     "output_type": "execute_result"
    }
   ],
   "source": [
    "import anthropic\n",
    "client = anthropic.Anthropic()\n",
    "summarize.summarize(cursor.current_location, client)"
   ]
  },
  {
   "cell_type": "code",
   "execution_count": 8,
   "id": "624a1b22-6d30-4626-bfff-ef6f42030675",
   "metadata": {},
   "outputs": [
    {
     "data": {
      "text/plain": [
       "You are navigating 'demo'. You are 1 edges down from the root.\n",
       "The current node has type ClassDef.\n",
       "\n",
       "The children of the current node are as follows:\n",
       "( >> FunctionDef 'get_public_name' at (30, 4), '')"
      ]
     },
     "execution_count": 8,
     "metadata": {},
     "output_type": "execute_result"
    }
   ],
   "source": [
    "cursor"
   ]
  },
  {
   "cell_type": "code",
   "execution_count": 9,
   "id": "1fbc7a37-7ed0-4ab7-906d-80c25185d069",
   "metadata": {},
   "outputs": [
    {
     "ename": "ValueError",
     "evalue": "ast node must be a type of AST node",
     "output_type": "error",
     "traceback": [
      "\u001b[0;31m---------------------------------------------------------------------------\u001b[0m",
      "\u001b[0;31mValueError\u001b[0m                                Traceback (most recent call last)",
      "Cell \u001b[0;32mIn[9], line 1\u001b[0m\n\u001b[0;32m----> 1\u001b[0m \u001b[43mNode\u001b[49m\u001b[43m(\u001b[49m\u001b[38;5;124;43m\"\u001b[39;49m\u001b[38;5;124;43m\"\u001b[39;49m\u001b[43m)\u001b[49m\n",
      "File \u001b[0;32m~/astound/astound/smartnode.py:45\u001b[0m, in \u001b[0;36mNode.__init__\u001b[0;34m(self, ast_node)\u001b[0m\n\u001b[1;32m     43\u001b[0m \u001b[38;5;28;01mdef\u001b[39;00m \u001b[38;5;21m__init__\u001b[39m(\u001b[38;5;28mself\u001b[39m, ast_node\u001b[38;5;241m=\u001b[39m\u001b[38;5;28;01mNone\u001b[39;00m):\n\u001b[1;32m     44\u001b[0m     \u001b[38;5;28;01mif\u001b[39;00m \u001b[38;5;129;01mnot\u001b[39;00m \u001b[38;5;28misinstance\u001b[39m(ast_node, ast\u001b[38;5;241m.\u001b[39mAST):\n\u001b[0;32m---> 45\u001b[0m         \u001b[38;5;28;01mraise\u001b[39;00m \u001b[38;5;167;01mValueError\u001b[39;00m(\u001b[38;5;124m\"\u001b[39m\u001b[38;5;124mast node must be a type of AST node\u001b[39m\u001b[38;5;124m\"\u001b[39m)\n\u001b[1;32m     47\u001b[0m     \u001b[38;5;28;01mif\u001b[39;00m \u001b[38;5;28many\u001b[39m(\n\u001b[1;32m     48\u001b[0m         \u001b[38;5;28misinstance\u001b[39m(ast_node, forbidden_type) \u001b[38;5;28;01mfor\u001b[39;00m forbidden_type \u001b[38;5;129;01min\u001b[39;00m FORBIDDEN_TYPES\n\u001b[1;32m     49\u001b[0m     ):\n\u001b[1;32m     50\u001b[0m         \u001b[38;5;28mself\u001b[39m\u001b[38;5;241m.\u001b[39mast_node \u001b[38;5;241m=\u001b[39m \u001b[38;5;28;01mNone\u001b[39;00m\n",
      "\u001b[0;31mValueError\u001b[0m: ast node must be a type of AST node"
     ]
    }
   ],
   "source": [
    "Node(\"\")"
   ]
  },
  {
   "cell_type": "code",
   "execution_count": null,
   "id": "70653e0a-19e0-43a2-ab00-d0401275cd27",
   "metadata": {},
   "outputs": [],
   "source": [
    "tree = cursor.root.ast_node"
   ]
  },
  {
   "cell_type": "code",
   "execution_count": null,
   "id": "1ce2da2b-98ed-49ed-907e-02a50efd353d",
   "metadata": {},
   "outputs": [],
   "source": [
    "tree.body[1]"
   ]
  },
  {
   "cell_type": "code",
   "execution_count": null,
   "id": "f14ccf06-c4ba-4473-8c47-b0b1209de6a5",
   "metadata": {},
   "outputs": [],
   "source": [
    "Node(tree.body[1])"
   ]
  },
  {
   "cell_type": "code",
   "execution_count": null,
   "id": "5b75f941-bd63-47fb-b4d3-ed029e528e30",
   "metadata": {},
   "outputs": [],
   "source": [
    "quit\n"
   ]
  }
 ],
 "metadata": {
  "kernelspec": {
   "display_name": "autoferret env",
   "language": "python",
   "name": "autoferret-env"
  },
  "language_info": {
   "codemirror_mode": {
    "name": "ipython",
    "version": 3
   },
   "file_extension": ".py",
   "mimetype": "text/x-python",
   "name": "python",
   "nbconvert_exporter": "python",
   "pygments_lexer": "ipython3",
   "version": "3.10.9"
  }
 },
 "nbformat": 4,
 "nbformat_minor": 5
}
