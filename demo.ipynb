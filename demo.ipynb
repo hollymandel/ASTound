{
 "cells": [
  {
   "cell_type": "code",
   "execution_count": 1,
   "id": "ea6c044d-822a-439f-8aa1-5d3010af7507",
   "metadata": {},
   "outputs": [],
   "source": [
    "from astound.smartnode import Node, Source\n",
    "from astound import summarize\n",
    "from astound.cursor import Cursor, display_tree\n",
    "import ast\n",
    "import logging\n",
    "\n",
    "logging.basicConfig(level=logging.ERROR)"
   ]
  },
  {
   "cell_type": "code",
   "execution_count": 2,
   "id": "5f6ea9ce-f82b-4c43-a894-cb266258ae8e",
   "metadata": {},
   "outputs": [
    {
     "data": {
      "text/plain": [
       "CURSOR :: You are 0 edges down from the root.\n",
       "The current node has type Module.\n",
       "\n",
       "The unattached subnodes of the current node are as follows:\n",
       "  Assign.targets >> Attribute.value >> truncated at Attribute 'settings' at key '10, 0'\n",
       "  Assign.targets >> Name 'ALIASES' at key '14, 0'\n",
       "  Assign.targets >> Name 'RICH_TYPES' at key '21, 0'\n",
       "  Assign.value >> Tuple.elts >> truncated at Attribute 'Module' at key '22, 4'\n",
       "  Assign.value >> Tuple.elts >> truncated at Attribute 'FunctionDef' at key '23, 4'\n",
       "  Assign.value >> Tuple.elts >> truncated at Attribute 'AsyncFunctionDef' at key '24, 4'\n",
       "  Assign.value >> Tuple.elts >> truncated at Attribute 'ClassDef' at key '25, 4'\n",
       "  Assign.value >> Tuple.elts >> truncated at Attribute 'Name' at key '26, 4'\n",
       "  Assign.targets >> Name 'SKIP_TYPES' at key '29, 0'\n",
       "  Assign.targets >> Name 'ast_node_types' at key '29, 13'\n",
       "  Assign.value >> Dict.keys >> truncated at Attribute 'Expr' at key '30, 4'\n",
       "  Assign.value >> Dict.keys >> truncated at Attribute 'Return' at key '31, 4'\n",
       "  Assign.value >> Dict.keys >> truncated at Attribute 'Yield' at key '32, 4'\n",
       "  Assign.value >> Dict.keys >> truncated at Attribute 'Await' at key '33, 4'\n",
       "  Assign.value >> Dict.keys >> truncated at Attribute 'UnaryOp' at key '34, 4'\n",
       "  Assign.value >> Dict.keys >> truncated at Attribute 'Not' at key '35, 4'\n",
       "  Assign.value >> Dict.keys >> truncated at Attribute 'Assert' at key '36, 4'\n",
       "  Assign.value >> Dict.keys >> truncated at Attribute 'Constant' at key '37, 4'\n",
       "  Assign.value >> Dict.keys >> truncated at Attribute 'Load' at key '38, 4'\n",
       "  Assign.value >> Dict.keys >> truncated at Attribute 'Eq' at key '39, 4'\n",
       "  FunctionDef 'get_ast_tuplestr' at key '42, 0'\n",
       "  FunctionDef 'tuplestr_to_tuple' at key '45, 0'\n",
       "  FunctionDef 'is_rich_type' at key '49, 0'\n",
       "  FunctionDef 'pretty_type' at key '52, 0'\n",
       "  ClassDef 'ExtractFunctionSource' at key '55, 0'\n",
       "  ClassDef 'Source' at key '67, 0'\n",
       "  ClassDef 'Node' at key '77, 0'\n",
       "\n",
       "The children of the current node are as follows:"
      ]
     },
     "execution_count": 2,
     "metadata": {},
     "output_type": "execute_result"
    }
   ],
   "source": [
    "source = Source(\"astound/smartnode.py\")\n",
    "cursor = Cursor(root = source)\n",
    "cursor"
   ]
  },
  {
   "cell_type": "code",
   "execution_count": 3,
   "id": "64471ff6-969a-4296-a556-19befafcc556",
   "metadata": {},
   "outputs": [
    {
     "name": "stdout",
     "output_type": "stream",
     "text": [
      "CURSOR :: You are 1 edges down from the root.\n",
      "The current node has type ClassDef.\n",
      "\n",
      "The unattached subnodes of the current node are as follows:\n",
      "  Assign.targets >> Name 'sqlite_conn' at key '79, 4'\n",
      "  Assign.value >> Call.func >> truncated at Attribute 'connect' at key '79, 18'\n",
      "  Assign.targets >> Name 'anthropic_client' at key '80, 4'\n",
      "  Assign.value >> Call.func >> truncated at Attribute 'Anthropic' at key '80, 23'\n",
      "  FunctionDef '__init__' at key '82, 4'\n",
      "  FunctionDef 'name' at key '107, 4'\n",
      "  FunctionDef 'split' at key '119, 4'\n",
      "  FunctionDef 'body' at key '163, 4'\n",
      "  FunctionDef '__repr__' at key '173, 4'\n",
      "  FunctionDef 'infer_inheritance' at key '190, 4'\n",
      "  FunctionDef 'get_subnode' at key '203, 4'\n",
      "  FunctionDef 'print_unattached_subnodes' at key '210, 4'\n",
      "  FunctionDef 'attach_subnode' at key '222, 4'\n",
      "  FunctionDef 'attach_manual' at key '230, 4'\n",
      "  FunctionDef 'print_children' at key '233, 4'\n",
      "  FunctionDef 'get_text' at key '240, 4'\n",
      "  FunctionDef 'get_function_def' at key '267, 4'\n",
      "\n",
      "The children of the current node are as follows:\n",
      "\n"
     ]
    }
   ],
   "source": [
    "cursor.down(\"77,0\")"
   ]
  },
  {
   "cell_type": "code",
   "execution_count": null,
   "id": "9d7ade85-3403-40e5-bcd8-949817ed27b8",
   "metadata": {},
   "outputs": [],
   "source": [
    "cursor.down(\"119,4\")"
   ]
  },
  {
   "cell_type": "code",
   "execution_count": null,
   "id": "91356892-304e-48f5-b2f9-0737f3403f43",
   "metadata": {},
   "outputs": [],
   "source": [
    "cursor.down(\"135,21\")"
   ]
  },
  {
   "cell_type": "code",
   "execution_count": null,
   "id": "ee57fa3c-b196-4522-9400-497a2347e0d8",
   "metadata": {},
   "outputs": [],
   "source": [
    "source2 = Source(\"astound/smartparse.py\")\n",
    "cursor.link_source(\"smartparse\", source2)"
   ]
  },
  {
   "cell_type": "code",
   "execution_count": null,
   "id": "47352abc-1035-47fe-bd46-c77548158e71",
   "metadata": {},
   "outputs": [],
   "source": [
    "cursor.up()\n",
    "cursor.up()\n",
    "cursor.summarize_down()"
   ]
  },
  {
   "cell_type": "code",
   "execution_count": null,
   "id": "d9f2bf3d-97a7-4056-8266-41124e9ebc8d",
   "metadata": {},
   "outputs": [],
   "source": [
    "display_tree(cursor.current)"
   ]
  }
 ],
 "metadata": {
  "kernelspec": {
   "display_name": "autoferret env",
   "language": "python",
   "name": "autoferret-env"
  },
  "language_info": {
   "codemirror_mode": {
    "name": "ipython",
    "version": 3
   },
   "file_extension": ".py",
   "mimetype": "text/x-python",
   "name": "python",
   "nbconvert_exporter": "python",
   "pygments_lexer": "ipython3",
   "version": "3.10.9"
  }
 },
 "nbformat": 4,
 "nbformat_minor": 5
}
