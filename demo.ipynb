{
 "cells": [
  {
   "cell_type": "code",
   "execution_count": 1,
   "id": "ea6c044d-822a-439f-8aa1-5d3010af7507",
   "metadata": {},
   "outputs": [],
   "source": [
    "from astound.smartnode import Node, SmartNode, Source\n",
    "from astound import summarize\n",
    "from astound.cursor import Cursor\n",
    "import ast"
   ]
  },
  {
   "cell_type": "code",
   "execution_count": 16,
   "id": "5f6ea9ce-f82b-4c43-a894-cb266258ae8e",
   "metadata": {},
   "outputs": [
    {
     "data": {
      "text/plain": [
       "You are navigating 'demo'. You are 0 edges down from the root.\n",
       "The current node has type Module.\n",
       "\n",
       "The children of the current node are as follows:\n",
       " Assign.target >> Name 'FORBIDDEN_TYPES' at (7, 0)\n",
       " Assign.value >> List.elts >> Attribute 'ImportFrom' at (8, 4)\n",
       " Assign.value >> List.elts >> Attribute 'Import' at (9, 4)\n",
       " Assign.value >> List.elts >> Attribute 'ListComp' at (10, 4)\n",
       " Assign.value >> List.elts >> Attribute 'Constant' at (11, 4)\n",
       " Assign.value >> List.elts >> Attribute 'Slice' at (12, 4)\n",
       " Assign.value >> List.elts >> Attribute 'Subscript' at (13, 4)\n",
       " Assign.target >> Attribute 'fast_parser' at (16, 0)\n",
       " FunctionDef 'pretty_type' at (21, 0)\n",
       " ClassDef 'ForbiddenNodeType' at (25, 0)\n",
       " ClassDef 'ExtractFunctionSource' at (29, 0)\n",
       " ClassDef 'Source' at (41, 0)\n",
       " ClassDef 'Node' at (50, 0)\n",
       " ClassDef 'SmartNode' at (148, 0)"
      ]
     },
     "execution_count": 16,
     "metadata": {},
     "output_type": "execute_result"
    }
   ],
   "source": [
    "source = Source(\"astound/smartnode.py\")\n",
    "cursor = Cursor(\"demo\", source)\n",
    "cursor"
   ]
  },
  {
   "cell_type": "code",
   "execution_count": 17,
   "id": "5785d78b-2429-429a-bcaa-5b6835fd9037",
   "metadata": {},
   "outputs": [
    {
     "name": "stdout",
     "output_type": "stream",
     "text": [
      "You are navigating 'demo'. You are 1 edges down from the root.\n",
      "The current node has type ClassDef.\n",
      "\n",
      "The children of the current node are as follows:\n",
      " FunctionDef '__init__' at (151, 4)\n",
      " FunctionDef 'infer_inheritance' at (164, 4)\n",
      " FunctionDef 'get_child' at (175, 4)\n",
      " FunctionDef 'print_children' at (181, 4)\n",
      " FunctionDef 'attach_child' at (191, 4)\n",
      " FunctionDef 'attach_manual' at (199, 4)\n",
      " FunctionDef 'get_text' at (202, 4)\n",
      "\n"
     ]
    }
   ],
   "source": [
    "cursor.down(148,0)"
   ]
  },
  {
   "cell_type": "code",
   "execution_count": 18,
   "id": "78bef72e-6197-409f-a441-1a7bff624af0",
   "metadata": {},
   "outputs": [
    {
     "ename": "ValueError",
     "evalue": "",
     "output_type": "error",
     "traceback": [
      "\u001b[0;31m---------------------------------------------------------------------------\u001b[0m",
      "\u001b[0;31mValueError\u001b[0m                                Traceback (most recent call last)",
      "Cell \u001b[0;32mIn[18], line 1\u001b[0m\n\u001b[0;32m----> 1\u001b[0m \u001b[43mcursor\u001b[49m\u001b[38;5;241;43m.\u001b[39;49m\u001b[43mdown\u001b[49m\u001b[43m(\u001b[49m\u001b[38;5;241;43m151\u001b[39;49m\u001b[43m,\u001b[49m\u001b[38;5;241;43m4\u001b[39;49m\u001b[43m)\u001b[49m\n",
      "File \u001b[0;32m~/astound/astound/cursor.py:34\u001b[0m, in \u001b[0;36mCursor.down\u001b[0;34m(self, line, col)\u001b[0m\n\u001b[1;32m     31\u001b[0m \u001b[38;5;28mself\u001b[39m\u001b[38;5;241m.\u001b[39mcurrent_location \u001b[38;5;241m=\u001b[39m \u001b[38;5;28mself\u001b[39m\u001b[38;5;241m.\u001b[39mcurrent_location\u001b[38;5;241m.\u001b[39mchildren[line, col]\n\u001b[1;32m     32\u001b[0m \u001b[38;5;28mself\u001b[39m\u001b[38;5;241m.\u001b[39mdepth \u001b[38;5;241m+\u001b[39m\u001b[38;5;241m=\u001b[39m \u001b[38;5;241m1\u001b[39m\n\u001b[0;32m---> 34\u001b[0m \u001b[38;5;28;43mprint\u001b[39;49m\u001b[43m(\u001b[49m\u001b[38;5;28;43mself\u001b[39;49m\u001b[43m)\u001b[49m\n",
      "File \u001b[0;32m~/astound/astound/cursor.py:26\u001b[0m, in \u001b[0;36mCursor.__repr__\u001b[0;34m(self)\u001b[0m\n\u001b[1;32m     20\u001b[0m \u001b[38;5;28;01mdef\u001b[39;00m \u001b[38;5;21m__repr__\u001b[39m(\u001b[38;5;28mself\u001b[39m):\n\u001b[1;32m     21\u001b[0m     \u001b[38;5;28;01mreturn\u001b[39;00m (\n\u001b[1;32m     22\u001b[0m         \u001b[38;5;124mf\u001b[39m\u001b[38;5;124m\"\u001b[39m\u001b[38;5;124mYou are navigating \u001b[39m\u001b[38;5;124m'\u001b[39m\u001b[38;5;132;01m{\u001b[39;00m\u001b[38;5;28mself\u001b[39m\u001b[38;5;241m.\u001b[39mname\u001b[38;5;132;01m}\u001b[39;00m\u001b[38;5;124m'\u001b[39m\u001b[38;5;124m. \u001b[39m\u001b[38;5;124m\"\u001b[39m\n\u001b[1;32m     23\u001b[0m         \u001b[38;5;241m+\u001b[39m \u001b[38;5;124mf\u001b[39m\u001b[38;5;124m\"\u001b[39m\u001b[38;5;124mYou are \u001b[39m\u001b[38;5;132;01m{\u001b[39;00m\u001b[38;5;28mself\u001b[39m\u001b[38;5;241m.\u001b[39mdepth\u001b[38;5;132;01m}\u001b[39;00m\u001b[38;5;124m edges down from the root.\u001b[39m\u001b[38;5;130;01m\\n\u001b[39;00m\u001b[38;5;124m\"\u001b[39m\n\u001b[1;32m     24\u001b[0m         \u001b[38;5;241m+\u001b[39m \u001b[38;5;124mf\u001b[39m\u001b[38;5;124m\"\u001b[39m\u001b[38;5;124mThe current node has type \u001b[39m\u001b[38;5;132;01m{\u001b[39;00mpretty_type(\u001b[38;5;28mtype\u001b[39m(\u001b[38;5;28mself\u001b[39m\u001b[38;5;241m.\u001b[39mcurrent_location\u001b[38;5;241m.\u001b[39mast_node))\u001b[38;5;132;01m}\u001b[39;00m\u001b[38;5;124m.\u001b[39m\u001b[38;5;130;01m\\n\u001b[39;00m\u001b[38;5;130;01m\\n\u001b[39;00m\u001b[38;5;124m\"\u001b[39m\n\u001b[1;32m     25\u001b[0m         \u001b[38;5;241m+\u001b[39m \u001b[38;5;124mf\u001b[39m\u001b[38;5;124m\"\u001b[39m\u001b[38;5;124mThe children of the current node are as follows:\u001b[39m\u001b[38;5;130;01m\\n\u001b[39;00m\u001b[38;5;124m\"\u001b[39m\n\u001b[0;32m---> 26\u001b[0m         \u001b[38;5;241m+\u001b[39m \u001b[38;5;28;43mself\u001b[39;49m\u001b[38;5;241;43m.\u001b[39;49m\u001b[43mcurrent_location\u001b[49m\u001b[38;5;241;43m.\u001b[39;49m\u001b[43mprint_children\u001b[49m\u001b[43m(\u001b[49m\u001b[43m)\u001b[49m\n\u001b[1;32m     27\u001b[0m     )\n",
      "File \u001b[0;32m~/astound/astound/smartnode.py:188\u001b[0m, in \u001b[0;36mSmartNode.print_children\u001b[0;34m(self)\u001b[0m\n\u001b[1;32m    186\u001b[0m         \u001b[38;5;28;01mif\u001b[39;00m \u001b[38;5;28many\u001b[39m(\u001b[38;5;28misinstance\u001b[39m(subnode, ft) \u001b[38;5;28;01mfor\u001b[39;00m ft \u001b[38;5;129;01min\u001b[39;00m FORBIDDEN_TYPES):\n\u001b[1;32m    187\u001b[0m             \u001b[38;5;28;01mcontinue\u001b[39;00m\n\u001b[0;32m--> 188\u001b[0m         out_str \u001b[38;5;241m+\u001b[39m\u001b[38;5;241m=\u001b[39m \u001b[38;5;124mf\u001b[39m\u001b[38;5;124m\"\u001b[39m\u001b[38;5;132;01m{\u001b[39;00mtag\u001b[38;5;132;01m}\u001b[39;00m\u001b[38;5;124m \u001b[39m\u001b[38;5;132;01m{\u001b[39;00msubnode\u001b[38;5;132;01m}\u001b[39;00m\u001b[38;5;130;01m\\n\u001b[39;00m\u001b[38;5;124m\"\u001b[39m\n\u001b[1;32m    189\u001b[0m \u001b[38;5;28;01mreturn\u001b[39;00m out_str\n",
      "File \u001b[0;32m~/astound/astound/smartnode.py:140\u001b[0m, in \u001b[0;36mNode.__repr__\u001b[0;34m(self)\u001b[0m\n\u001b[1;32m    136\u001b[0m \u001b[38;5;28;01mif\u001b[39;00m \u001b[38;5;28mself\u001b[39m\u001b[38;5;241m.\u001b[39mast_node \u001b[38;5;129;01mis\u001b[39;00m \u001b[38;5;28;01mNone\u001b[39;00m:\n\u001b[1;32m    137\u001b[0m     \u001b[38;5;28;01mreturn\u001b[39;00m \u001b[38;5;124m\"\u001b[39m\u001b[38;5;124m\"\u001b[39m\n\u001b[1;32m    139\u001b[0m \u001b[38;5;28;01mreturn\u001b[39;00m \u001b[38;5;124m\"\u001b[39m\u001b[38;5;130;01m\\n\u001b[39;00m\u001b[38;5;124m\"\u001b[39m\u001b[38;5;241m.\u001b[39mjoin(\n\u001b[0;32m--> 140\u001b[0m     [\n\u001b[1;32m    141\u001b[0m         \u001b[38;5;124mf\u001b[39m\u001b[38;5;124m\"\u001b[39m\u001b[38;5;132;01m{\u001b[39;00mpretty_type(\u001b[38;5;28mtype\u001b[39m(component\u001b[38;5;241m.\u001b[39mast_node))\u001b[38;5;132;01m}\u001b[39;00m\u001b[38;5;124m \u001b[39m\u001b[38;5;124m'\u001b[39m\u001b[38;5;132;01m{\u001b[39;00mcomponent\u001b[38;5;241m.\u001b[39mname()\u001b[38;5;132;01m}\u001b[39;00m\u001b[38;5;124m'\u001b[39m\u001b[38;5;124m \u001b[39m\u001b[38;5;124m\"\u001b[39m\n\u001b[1;32m    142\u001b[0m         \u001b[38;5;241m+\u001b[39m \u001b[38;5;124mf\u001b[39m\u001b[38;5;124m\"\u001b[39m\u001b[38;5;124mat \u001b[39m\u001b[38;5;132;01m{\u001b[39;00m(component\u001b[38;5;241m.\u001b[39mast_node\u001b[38;5;241m.\u001b[39mlineno,\u001b[38;5;250m \u001b[39mcomponent\u001b[38;5;241m.\u001b[39mast_node\u001b[38;5;241m.\u001b[39mcol_offset)\u001b[38;5;132;01m}\u001b[39;00m\u001b[38;5;124m\"\u001b[39m\n\u001b[1;32m    143\u001b[0m         \u001b[38;5;28;01mfor\u001b[39;00m component, tag \u001b[38;5;129;01min\u001b[39;00m \u001b[38;5;28mself\u001b[39m\u001b[38;5;241m.\u001b[39msplit()\n\u001b[1;32m    144\u001b[0m     ]\n\u001b[1;32m    145\u001b[0m )\n",
      "File \u001b[0;32m~/astound/astound/smartnode.py:141\u001b[0m, in \u001b[0;36m<listcomp>\u001b[0;34m(.0)\u001b[0m\n\u001b[1;32m    136\u001b[0m \u001b[38;5;28;01mif\u001b[39;00m \u001b[38;5;28mself\u001b[39m\u001b[38;5;241m.\u001b[39mast_node \u001b[38;5;129;01mis\u001b[39;00m \u001b[38;5;28;01mNone\u001b[39;00m:\n\u001b[1;32m    137\u001b[0m     \u001b[38;5;28;01mreturn\u001b[39;00m \u001b[38;5;124m\"\u001b[39m\u001b[38;5;124m\"\u001b[39m\n\u001b[1;32m    139\u001b[0m \u001b[38;5;28;01mreturn\u001b[39;00m \u001b[38;5;124m\"\u001b[39m\u001b[38;5;130;01m\\n\u001b[39;00m\u001b[38;5;124m\"\u001b[39m\u001b[38;5;241m.\u001b[39mjoin(\n\u001b[1;32m    140\u001b[0m     [\n\u001b[0;32m--> 141\u001b[0m         \u001b[38;5;124mf\u001b[39m\u001b[38;5;124m\"\u001b[39m\u001b[38;5;132;01m{\u001b[39;00mpretty_type(\u001b[38;5;28mtype\u001b[39m(component\u001b[38;5;241m.\u001b[39mast_node))\u001b[38;5;132;01m}\u001b[39;00m\u001b[38;5;124m \u001b[39m\u001b[38;5;124m'\u001b[39m\u001b[38;5;132;01m{\u001b[39;00m\u001b[43mcomponent\u001b[49m\u001b[38;5;241;43m.\u001b[39;49m\u001b[43mname\u001b[49m\u001b[43m(\u001b[49m\u001b[43m)\u001b[49m\u001b[38;5;132;01m}\u001b[39;00m\u001b[38;5;124m'\u001b[39m\u001b[38;5;124m \u001b[39m\u001b[38;5;124m\"\u001b[39m\n\u001b[1;32m    142\u001b[0m         \u001b[38;5;241m+\u001b[39m \u001b[38;5;124mf\u001b[39m\u001b[38;5;124m\"\u001b[39m\u001b[38;5;124mat \u001b[39m\u001b[38;5;132;01m{\u001b[39;00m(component\u001b[38;5;241m.\u001b[39mast_node\u001b[38;5;241m.\u001b[39mlineno,\u001b[38;5;250m \u001b[39mcomponent\u001b[38;5;241m.\u001b[39mast_node\u001b[38;5;241m.\u001b[39mcol_offset)\u001b[38;5;132;01m}\u001b[39;00m\u001b[38;5;124m\"\u001b[39m\n\u001b[1;32m    143\u001b[0m         \u001b[38;5;28;01mfor\u001b[39;00m component, tag \u001b[38;5;129;01min\u001b[39;00m \u001b[38;5;28mself\u001b[39m\u001b[38;5;241m.\u001b[39msplit()\n\u001b[1;32m    144\u001b[0m     ]\n\u001b[1;32m    145\u001b[0m )\n",
      "File \u001b[0;32m~/astound/astound/smartnode.py:77\u001b[0m, in \u001b[0;36mNode.name\u001b[0;34m(self)\u001b[0m\n\u001b[1;32m     75\u001b[0m \u001b[38;5;28;01mif\u001b[39;00m \u001b[38;5;28mhasattr\u001b[39m(\u001b[38;5;28mself\u001b[39m\u001b[38;5;241m.\u001b[39mast_node, \u001b[38;5;124m\"\u001b[39m\u001b[38;5;124mid\u001b[39m\u001b[38;5;124m\"\u001b[39m):\n\u001b[1;32m     76\u001b[0m     \u001b[38;5;28;01mreturn\u001b[39;00m \u001b[38;5;28mself\u001b[39m\u001b[38;5;241m.\u001b[39mast_node\u001b[38;5;241m.\u001b[39mid\n\u001b[0;32m---> 77\u001b[0m \u001b[38;5;28;01mraise\u001b[39;00m \u001b[38;5;167;01mValueError\u001b[39;00m\n",
      "\u001b[0;31mValueError\u001b[0m: "
     ]
    }
   ],
   "source": [
    "cursor.down(151,4)"
   ]
  },
  {
   "cell_type": "code",
   "execution_count": 13,
   "id": "33add7b1-0a77-47bf-8260-ffa6a744ffb5",
   "metadata": {},
   "outputs": [
    {
     "name": "stdout",
     "output_type": "stream",
     "text": [
      "You are navigating 'demo'. You are 1 edges down from the root.\n",
      "The current node has type ClassDef.\n",
      "\n",
      "The children of the current node are as follows:\n",
      " FunctionDef '__init__' at (151, 4)\n",
      " FunctionDef 'infer_inheritance' at (164, 4)\n",
      " FunctionDef 'get_child' at (175, 4)\n",
      " FunctionDef 'print_children' at (181, 4)\n",
      " FunctionDef 'attach_child' at (191, 4)\n",
      " FunctionDef 'attach_manual' at (199, 4)\n",
      " FunctionDef 'get_text' at (202, 4)\n",
      "\n"
     ]
    }
   ],
   "source": [
    "cursor.up()"
   ]
  },
  {
   "cell_type": "code",
   "execution_count": 14,
   "id": "00cc105c-a920-48d9-96f0-a55c73c08832",
   "metadata": {},
   "outputs": [
    {
     "data": {
      "text/plain": [
       "'The `SmartNode` class is a Python implementation of a node in an abstract syntax tree (AST) that provides methods for recursive analysis and summarization of the AST. The `attach_child` function is a method within the `SmartNode` class that adds a new child node to a parent node, ensuring that the child node is unique based on its line and column coordinates within the AST.'"
      ]
     },
     "execution_count": 14,
     "metadata": {},
     "output_type": "execute_result"
    }
   ],
   "source": [
    "import anthropic\n",
    "client = anthropic.Anthropic()\n",
    "summarize.summarize(cursor.current_location, client)"
   ]
  },
  {
   "cell_type": "code",
   "execution_count": 15,
   "id": "9fd7807f-4302-4e32-afad-a6985b80e633",
   "metadata": {},
   "outputs": [
    {
     "name": "stdout",
     "output_type": "stream",
     "text": [
      "The `SmartNode` class is a Python implementation of a node in an abstract syntax tree (AST) that provides methods for recursive analysis and summarization of the AST. The `attach_child` function is a method within the `SmartNode` class that adds a new child node to a parent node, ensuring that the child node is unique based on its line and column coordinates within the AST.\n"
     ]
    }
   ],
   "source": [
    "print(_14)"
   ]
  },
  {
   "cell_type": "code",
   "execution_count": 26,
   "id": "86f53401-7263-483f-9adf-72f898b397e1",
   "metadata": {},
   "outputs": [
    {
     "data": {
      "text/plain": [
       "-32"
      ]
     },
     "execution_count": 26,
     "metadata": {},
     "output_type": "execute_result"
    }
   ],
   "source": [
    "ord(\"A\")-97"
   ]
  },
  {
   "cell_type": "code",
   "execution_count": 36,
   "id": "b3f51285-d01f-4fa3-b107-db91b60b60a7",
   "metadata": {},
   "outputs": [],
   "source": [
    "def to_int(ch):\n",
    "    return ord(ch)-97\n",
    "def hash_function(s):\n",
    "    return sum(to_int(ch) for i, ch in enumerate(s)) % 13\n"
   ]
  },
  {
   "cell_type": "code",
   "execution_count": 37,
   "id": "0e93921c-f5bc-4d0e-bf37-510616482e3d",
   "metadata": {},
   "outputs": [
    {
     "data": {
      "text/plain": [
       "8"
      ]
     },
     "execution_count": 37,
     "metadata": {},
     "output_type": "execute_result"
    }
   ],
   "source": [
    "hash_function(\"hello\")"
   ]
  },
  {
   "cell_type": "code",
   "execution_count": 31,
   "id": "37b761a8-52cb-4bb9-90e8-44132fc168b5",
   "metadata": {},
   "outputs": [
    {
     "data": {
      "text/plain": [
       "1"
      ]
     },
     "execution_count": 31,
     "metadata": {},
     "output_type": "execute_result"
    }
   ],
   "source": [
    "to_int(\"b\")"
   ]
  },
  {
   "cell_type": "code",
   "execution_count": 42,
   "id": "61a8cd95-02f0-4d05-8d00-e65851b0d35d",
   "metadata": {},
   "outputs": [],
   "source": [
    "table_len = 278\n",
    "count_bin_size = 101\n",
    "alphabet_len = 26\n",
    "\n",
    "hash_table = [ [] for _ in range(table_len) ]\n",
    "\n",
    "def hash_function(s):\n",
    "    def to_int(ch):\n",
    "        return ord(ch)-97\n",
    "    letter_counts = [0] * alphabet_len\n",
    "    for ch in s:\n",
    "        letter_counts[to_int(ch)] += 1\n",
    "    return sum(x*count_bin_size**i for i, x in enumerate(letter_counts)) % table_len\n"
   ]
  },
  {
   "cell_type": "code",
   "execution_count": 43,
   "id": "8cbc8bab-eb7c-495b-8c9b-3a6f2440407b",
   "metadata": {},
   "outputs": [
    {
     "data": {
      "text/plain": [
       "169"
      ]
     },
     "execution_count": 43,
     "metadata": {},
     "output_type": "execute_result"
    }
   ],
   "source": [
    "hash_function(\"tea\")"
   ]
  },
  {
   "cell_type": "code",
   "execution_count": 44,
   "id": "992f93c5-5af4-434a-86e3-655b8082ceca",
   "metadata": {},
   "outputs": [
    {
     "data": {
      "text/plain": [
       "117"
      ]
     },
     "execution_count": 44,
     "metadata": {},
     "output_type": "execute_result"
    }
   ],
   "source": [
    "hash_function(\"rae\")"
   ]
  },
  {
   "cell_type": "code",
   "execution_count": 46,
   "id": "8f32684c-4b29-482f-900c-82ecb2a0b63d",
   "metadata": {},
   "outputs": [],
   "source": [
    "x = list(\"hello\")\n",
    "x.sort()"
   ]
  },
  {
   "cell_type": "code",
   "execution_count": 47,
   "id": "74066e39-f5bc-4d10-a8b2-31d840839f73",
   "metadata": {},
   "outputs": [
    {
     "data": {
      "text/plain": [
       "['e', 'h', 'l', 'l', 'o']"
      ]
     },
     "execution_count": 47,
     "metadata": {},
     "output_type": "execute_result"
    }
   ],
   "source": [
    "x"
   ]
  },
  {
   "cell_type": "code",
   "execution_count": null,
   "id": "9eea8477-91ca-4694-a7da-cc9d28476a16",
   "metadata": {},
   "outputs": [],
   "source": []
  }
 ],
 "metadata": {
  "kernelspec": {
   "display_name": "autoferret env",
   "language": "python",
   "name": "autoferret-env"
  },
  "language_info": {
   "codemirror_mode": {
    "name": "ipython",
    "version": 3
   },
   "file_extension": ".py",
   "mimetype": "text/x-python",
   "name": "python",
   "nbconvert_exporter": "python",
   "pygments_lexer": "ipython3",
   "version": "3.10.9"
  }
 },
 "nbformat": 4,
 "nbformat_minor": 5
}
