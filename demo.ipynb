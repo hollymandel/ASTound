{
 "cells": [
  {
   "cell_type": "code",
   "execution_count": 1,
   "id": "ea6c044d-822a-439f-8aa1-5d3010af7507",
   "metadata": {},
   "outputs": [],
   "source": [
    "from astound.smartnode import Node, SmartNode, Source\n",
    "from astound import summarize\n",
    "from astound.cursor import Cursor\n",
    "import ast"
   ]
  },
  {
   "cell_type": "code",
   "execution_count": 2,
   "id": "5f6ea9ce-f82b-4c43-a894-cb266258ae8e",
   "metadata": {},
   "outputs": [
    {
     "data": {
      "text/plain": [
       "You are navigating 'demo'. You are 0 edges down from the root.\n",
       "The current node has type Module.\n",
       "\n",
       "The children of the current node are as follows:\n",
       " Assign.value >> List.elts >> Attribute 'ImportFrom' at (8, 4)\n",
       " Assign.value >> List.elts >> Attribute 'Import' at (9, 4)\n",
       " Assign.value >> List.elts >> Attribute 'ListComp' at (10, 4)\n",
       " Assign.value >> List.elts >> Attribute 'For' at (11, 4)\n",
       " Assign.value >> List.elts >> Attribute 'Return' at (12, 4)\n",
       " Assign.value >> List.elts >> Attribute 'Constant' at (13, 4)\n",
       " Assign.value >> List.elts >> Attribute 'Name' at (14, 4)\n",
       " Assign.target >> Attribute 'fast_parser' at (17, 0)\n",
       " FunctionDef 'pretty_type' at (22, 0)\n",
       " ClassDef 'ForbiddenNodeType' at (26, 0)\n",
       " ClassDef 'ExtractFunctionSource' at (30, 0)\n",
       " ClassDef 'Source' at (42, 0)\n",
       " ClassDef 'Node' at (51, 0)\n",
       " ClassDef 'SmartNode' at (144, 0)"
      ]
     },
     "execution_count": 2,
     "metadata": {},
     "output_type": "execute_result"
    }
   ],
   "source": [
    "source = Source(\"astound/smartnode.py\")\n",
    "cursor = Cursor(\"demo\", source)\n",
    "cursor"
   ]
  },
  {
   "cell_type": "code",
   "execution_count": 3,
   "id": "5785d78b-2429-429a-bcaa-5b6835fd9037",
   "metadata": {},
   "outputs": [
    {
     "ename": "ValueError",
     "evalue": "",
     "output_type": "error",
     "traceback": [
      "\u001b[0;31m---------------------------------------------------------------------------\u001b[0m",
      "\u001b[0;31mValueError\u001b[0m                                Traceback (most recent call last)",
      "Cell \u001b[0;32mIn[3], line 1\u001b[0m\n\u001b[0;32m----> 1\u001b[0m \u001b[43mcursor\u001b[49m\u001b[38;5;241;43m.\u001b[39;49m\u001b[43mdown\u001b[49m\u001b[43m(\u001b[49m\u001b[38;5;241;43m146\u001b[39;49m\u001b[43m,\u001b[49m\u001b[38;5;241;43m0\u001b[39;49m\u001b[43m)\u001b[49m\n",
      "File \u001b[0;32m~/astound/astound/cursor.py:30\u001b[0m, in \u001b[0;36mCursor.down\u001b[0;34m(self, line, col)\u001b[0m\n\u001b[1;32m     29\u001b[0m \u001b[38;5;28;01mdef\u001b[39;00m \u001b[38;5;21mdown\u001b[39m(\u001b[38;5;28mself\u001b[39m, line, col):\n\u001b[0;32m---> 30\u001b[0m     \u001b[38;5;28;43mself\u001b[39;49m\u001b[38;5;241;43m.\u001b[39;49m\u001b[43mcurrent_location\u001b[49m\u001b[38;5;241;43m.\u001b[39;49m\u001b[43mattach_child\u001b[49m\u001b[43m(\u001b[49m\u001b[43mline\u001b[49m\u001b[43m,\u001b[49m\u001b[43m \u001b[49m\u001b[43mcol\u001b[49m\u001b[43m)\u001b[49m\n\u001b[1;32m     31\u001b[0m     \u001b[38;5;28mself\u001b[39m\u001b[38;5;241m.\u001b[39mcurrent_location \u001b[38;5;241m=\u001b[39m \u001b[38;5;28mself\u001b[39m\u001b[38;5;241m.\u001b[39mcurrent_location\u001b[38;5;241m.\u001b[39mchildren[line, col]\n\u001b[1;32m     32\u001b[0m     \u001b[38;5;28mself\u001b[39m\u001b[38;5;241m.\u001b[39mdepth \u001b[38;5;241m+\u001b[39m\u001b[38;5;241m=\u001b[39m \u001b[38;5;241m1\u001b[39m\n",
      "File \u001b[0;32m~/astound/astound/smartnode.py:192\u001b[0m, in \u001b[0;36mSmartNode.attach_child\u001b[0;34m(self, line, col)\u001b[0m\n\u001b[1;32m    188\u001b[0m \u001b[38;5;28;01mif\u001b[39;00m (line, col) \u001b[38;5;129;01min\u001b[39;00m \u001b[38;5;28mself\u001b[39m\u001b[38;5;241m.\u001b[39mchildren:\n\u001b[1;32m    189\u001b[0m     \u001b[38;5;28;01mraise\u001b[39;00m \u001b[38;5;167;01mValueError\u001b[39;00m(\u001b[38;5;124m\"\u001b[39m\u001b[38;5;124mchild already exists\u001b[39m\u001b[38;5;124m\"\u001b[39m)\n\u001b[1;32m    191\u001b[0m \u001b[38;5;28mself\u001b[39m\u001b[38;5;241m.\u001b[39mchildren[(line, col)] \u001b[38;5;241m=\u001b[39m SmartNode(\n\u001b[0;32m--> 192\u001b[0m     \u001b[38;5;28;43mself\u001b[39;49m\u001b[38;5;241;43m.\u001b[39;49m\u001b[43mget_child\u001b[49m\u001b[43m(\u001b[49m\u001b[43mline\u001b[49m\u001b[43m,\u001b[49m\u001b[43m \u001b[49m\u001b[43mcol\u001b[49m\u001b[43m)\u001b[49m, source\u001b[38;5;241m=\u001b[39m\u001b[38;5;28mself\u001b[39m\u001b[38;5;241m.\u001b[39msource, parent\u001b[38;5;241m=\u001b[39m\u001b[38;5;28mself\u001b[39m\n\u001b[1;32m    193\u001b[0m )\n",
      "File \u001b[0;32m~/astound/astound/smartnode.py:175\u001b[0m, in \u001b[0;36mSmartNode.get_child\u001b[0;34m(self, line, col)\u001b[0m\n\u001b[1;32m    173\u001b[0m     \u001b[38;5;28;01mif\u001b[39;00m subnode\u001b[38;5;241m.\u001b[39mast_node\u001b[38;5;241m.\u001b[39mlineno \u001b[38;5;241m==\u001b[39m line \u001b[38;5;129;01mand\u001b[39;00m subnode\u001b[38;5;241m.\u001b[39mast_node\u001b[38;5;241m.\u001b[39mcol_offset \u001b[38;5;241m==\u001b[39m col:\n\u001b[1;32m    174\u001b[0m         \u001b[38;5;28;01mreturn\u001b[39;00m subnode\u001b[38;5;241m.\u001b[39mast_node\n\u001b[0;32m--> 175\u001b[0m \u001b[38;5;28;01mraise\u001b[39;00m \u001b[38;5;167;01mValueError\u001b[39;00m\n",
      "\u001b[0;31mValueError\u001b[0m: "
     ]
    }
   ],
   "source": [
    "cursor.down(144,0)"
   ]
  },
  {
   "cell_type": "code",
   "execution_count": null,
   "id": "3332f6af-dca1-43df-be94-6c172aa23bb9",
   "metadata": {},
   "outputs": [],
   "source": [
    "cursor.down(177, 4)"
   ]
  },
  {
   "cell_type": "code",
   "execution_count": null,
   "id": "3498d005-3082-4012-8ed9-af6620ad4f70",
   "metadata": {},
   "outputs": [],
   "source": [
    "cursor.up()"
   ]
  },
  {
   "cell_type": "code",
   "execution_count": null,
   "id": "00cc105c-a920-48d9-96f0-a55c73c08832",
   "metadata": {},
   "outputs": [],
   "source": [
    "import anthropic\n",
    "client = anthropic.Anthropic()\n",
    "summarize.summarize(cursor.current_location, client)"
   ]
  }
 ],
 "metadata": {
  "kernelspec": {
   "display_name": "autoferret env",
   "language": "python",
   "name": "autoferret-env"
  },
  "language_info": {
   "codemirror_mode": {
    "name": "ipython",
    "version": 3
   },
   "file_extension": ".py",
   "mimetype": "text/x-python",
   "name": "python",
   "nbconvert_exporter": "python",
   "pygments_lexer": "ipython3",
   "version": "3.10.9"
  }
 },
 "nbformat": 4,
 "nbformat_minor": 5
}
