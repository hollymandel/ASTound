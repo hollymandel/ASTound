{
 "cells": [
  {
   "cell_type": "code",
   "execution_count": 1,
   "id": "ea6c044d-822a-439f-8aa1-5d3010af7507",
   "metadata": {},
   "outputs": [],
   "source": [
    "from astound.smartnode import Node, SmartNode, Source\n",
    "from astound import summarize\n",
    "from astound.cursor import Cursor\n",
    "import ast"
   ]
  },
  {
   "cell_type": "code",
   "execution_count": 2,
   "id": "5f6ea9ce-f82b-4c43-a894-cb266258ae8e",
   "metadata": {},
   "outputs": [
    {
     "data": {
      "text/plain": [
       "You are navigating 'demo'. You are 0 edges down from the root.\n",
       "The current node has type Module.\n",
       "\n",
       "The children of the current node are as follows:\n",
       "( >> ClassDef 'ParamNameWithEquals' at (29, 0), '')\n",
       "( >> FunctionDef '_get_signature_param_names' at (34, 0), '')\n",
       "( >> FunctionDef '_must_be_kwarg' at (46, 0), '')\n",
       "( >> FunctionDef 'filter_names' at (68, 0), '')\n",
       "( >> FunctionDef '_remove_duplicates' at (96, 0), '')\n",
       "( >> FunctionDef 'get_user_context' at (101, 0), '')\n",
       "( >> FunctionDef 'get_flow_scope_node' at (109, 0), '')\n",
       "( >> FunctionDef 'complete_param_names' at (118, 0), '')\n",
       "( >> ClassDef 'Completion' at (124, 0), '')\n",
       "( >> FunctionDef '_gather_nodes' at (485, 0), '')\n",
       "( >> Name '_string_start' at (495, 0), 'Assign.target/')\n",
       "( >> Attribute 'compile' at (495, 16), 'Assign.value/Call.func/')\n",
       "( >> FunctionDef '_extract_string_while_in_string' at (498, 0), '')\n",
       "( >> FunctionDef 'complete_trailer' at (546, 0), '')\n",
       "( >> FunctionDef '_complete_getattr' at (563, 0), '')\n",
       "( >> FunctionDef 'search_in_module' at (627, 0), '')"
      ]
     },
     "execution_count": 2,
     "metadata": {},
     "output_type": "execute_result"
    }
   ],
   "source": [
    "source = Source(\"1\", \"demo_source.py\")\n",
    "cursor = Cursor(\"demo\", source)\n",
    "cursor"
   ]
  },
  {
   "cell_type": "code",
   "execution_count": 3,
   "id": "3332f6af-dca1-43df-be94-6c172aa23bb9",
   "metadata": {},
   "outputs": [
    {
     "name": "stdout",
     "output_type": "stream",
     "text": [
      "You are navigating 'demo'. You are 1 edges down from the root.\n",
      "The current node has type ClassDef.\n",
      "\n",
      "The children of the current node are as follows:\n",
      "( >> FunctionDef 'get_public_name' at (30, 4), '')\n",
      "\n"
     ]
    }
   ],
   "source": [
    "cursor.down(29,0)"
   ]
  },
  {
   "cell_type": "code",
   "execution_count": 4,
   "id": "f0152ab7-2e03-4a60-bba6-8d34f8fe2a9e",
   "metadata": {},
   "outputs": [
    {
     "name": "stdout",
     "output_type": "stream",
     "text": [
      "You are navigating 'demo'. You are 2 edges down from the root.\n",
      "The current node has type FunctionDef.\n",
      "\n",
      "The children of the current node are as follows:\n",
      "\n"
     ]
    }
   ],
   "source": [
    "cursor.down(30,4)"
   ]
  },
  {
   "cell_type": "code",
   "execution_count": 5,
   "id": "3498d005-3082-4012-8ed9-af6620ad4f70",
   "metadata": {},
   "outputs": [
    {
     "name": "stdout",
     "output_type": "stream",
     "text": [
      "You are navigating 'demo'. You are 1 edges down from the root.\n",
      "The current node has type ClassDef.\n",
      "\n",
      "The children of the current node are as follows:\n",
      "( >> FunctionDef 'get_public_name' at (30, 4), '')\n",
      "\n"
     ]
    }
   ],
   "source": [
    "cursor.up()"
   ]
  },
  {
   "cell_type": "code",
   "execution_count": 6,
   "id": "00cc105c-a920-48d9-96f0-a55c73c08832",
   "metadata": {},
   "outputs": [
    {
     "data": {
      "text/plain": [
       "\"The `ParamNameWithEquals` class is a subclass of `ParamNameWrapper` that provides a method to generate a public-facing representation of an object's name by appending an equal sign to the `string_name` property.\""
      ]
     },
     "execution_count": 6,
     "metadata": {},
     "output_type": "execute_result"
    }
   ],
   "source": [
    "import anthropic\n",
    "client = anthropic.Anthropic()\n",
    "summarize.summarize(cursor.current_location, client)"
   ]
  },
  {
   "cell_type": "code",
   "execution_count": 7,
   "id": "008eb126-284c-4ee7-b779-165a346681c5",
   "metadata": {},
   "outputs": [
    {
     "data": {
      "text/plain": [
       "{'ast_node': <ast.ClassDef at 0x10acdd3c0>,\n",
       " 'text': '',\n",
       " 'source': <astound.smartnode.Source at 0x109d6ef50>,\n",
       " 'parent': Module.body/ >> ClassDef 'ParamNameWithEquals' at (29, 0)\n",
       " Module.body/ >> FunctionDef '_get_signature_param_names' at (34, 0)\n",
       " Module.body/ >> FunctionDef '_must_be_kwarg' at (46, 0)\n",
       " Module.body/ >> FunctionDef 'filter_names' at (68, 0)\n",
       " Module.body/ >> FunctionDef '_remove_duplicates' at (96, 0)\n",
       " Module.body/ >> FunctionDef 'get_user_context' at (101, 0)\n",
       " Module.body/ >> FunctionDef 'get_flow_scope_node' at (109, 0)\n",
       " Module.body/ >> FunctionDef 'complete_param_names' at (118, 0)\n",
       " Module.body/ >> ClassDef 'Completion' at (124, 0)\n",
       " Module.body/ >> FunctionDef '_gather_nodes' at (485, 0)\n",
       " Module.body/Assign.target/ >> Name '_string_start' at (495, 0)\n",
       " Module.body/Assign.value/Call.func/ >> Attribute 'compile' at (495, 16)\n",
       " Module.body/ >> FunctionDef '_extract_string_while_in_string' at (498, 0)\n",
       " Module.body/ >> FunctionDef 'complete_trailer' at (546, 0)\n",
       " Module.body/ >> FunctionDef '_complete_getattr' at (563, 0)\n",
       " Module.body/ >> FunctionDef 'search_in_module' at (627, 0),\n",
       " 'children': {(30,\n",
       "   4): This code defines a function called `get_public_name()` that takes a `self` parameter and returns a string that concatenates the `string_name` attribute of the object with an equal sign (`=`). This function is likely used to generate a public-facing representation of an object's name or identifier.},\n",
       " 'summary': \"The `ParamNameWithEquals` class is a subclass of `ParamNameWrapper` that provides a method to generate a public-facing representation of an object's name by appending an equal sign to the `string_name` property.\",\n",
       " 'inheritance': 'ParamNameWrapper'}"
      ]
     },
     "execution_count": 7,
     "metadata": {},
     "output_type": "execute_result"
    }
   ],
   "source": [
    "cursor.current_location.__dict__"
   ]
  },
  {
   "cell_type": "code",
   "execution_count": 8,
   "id": "624a1b22-6d30-4626-bfff-ef6f42030675",
   "metadata": {},
   "outputs": [
    {
     "data": {
      "text/plain": [
       "You are navigating 'demo'. You are 1 edges down from the root.\n",
       "The current node has type ClassDef.\n",
       "\n",
       "The children of the current node are as follows:\n",
       "( >> FunctionDef 'get_public_name' at (30, 4), '')"
      ]
     },
     "execution_count": 8,
     "metadata": {},
     "output_type": "execute_result"
    }
   ],
   "source": [
    "cursor"
   ]
  },
  {
   "cell_type": "code",
   "execution_count": null,
   "id": "1fbc7a37-7ed0-4ab7-906d-80c25185d069",
   "metadata": {},
   "outputs": [],
   "source": []
  }
 ],
 "metadata": {
  "kernelspec": {
   "display_name": "autoferret env",
   "language": "python",
   "name": "autoferret-env"
  },
  "language_info": {
   "codemirror_mode": {
    "name": "ipython",
    "version": 3
   },
   "file_extension": ".py",
   "mimetype": "text/x-python",
   "name": "python",
   "nbconvert_exporter": "python",
   "pygments_lexer": "ipython3",
   "version": "3.10.9"
  }
 },
 "nbformat": 4,
 "nbformat_minor": 5
}
