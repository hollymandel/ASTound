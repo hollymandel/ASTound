{
 "cells": [
  {
   "cell_type": "markdown",
   "id": "0164af8e-e0b3-4158-8101-2edc525f91cd",
   "metadata": {},
   "source": [
    "<b>Demo</b>: Using astound to explain the Node class and its use of \"smartparse\" in `astound/Node.py`"
   ]
  },
  {
   "cell_type": "code",
   "execution_count": 1,
   "id": "edb57fd4-6886-49c0-b522-1d562fac5ae4",
   "metadata": {},
   "outputs": [],
   "source": [
    "import ast\n",
    "import astound"
   ]
  },
  {
   "cell_type": "code",
   "execution_count": 2,
   "id": "83e867e6-e0b6-46dd-8b5c-65baf0d2f93e",
   "metadata": {},
   "outputs": [],
   "source": [
    "from astound import cursor\n",
    "\n",
    "source = astound.node.Source(\"astound/node.py\")\n",
    "cursor = cursor.Cursor(root = source)"
   ]
  },
  {
   "cell_type": "code",
   "execution_count": 3,
   "id": "06c48288-05fc-47c8-92e0-485237b974cf",
   "metadata": {},
   "outputs": [
    {
     "data": {
      "text/plain": [
       "ast.Module"
      ]
     },
     "execution_count": 3,
     "metadata": {},
     "output_type": "execute_result"
    }
   ],
   "source": [
    "type(cursor.root.ast_node)"
   ]
  },
  {
   "cell_type": "code",
   "execution_count": 4,
   "id": "558f107c-0d3a-4e73-8a8e-6f4bf7ef5204",
   "metadata": {},
   "outputs": [
    {
     "data": {
      "text/plain": [
       "CURSOR :: You are 0 edges down from the root.\n",
       "The current node 'astound/node.py' has type Module.\n",
       "\n",
       "The unattached subnodes of the current node are as follows:\n",
       "  ClassDef 'ExtractFunctionSource' at key '13, 0'\n",
       "  ClassDef 'Source' at key '29, 0'\n",
       "  ClassDef 'Node' at key '39, 0'\n",
       "\n",
       "The children of the current node are as follows:"
      ]
     },
     "execution_count": 4,
     "metadata": {},
     "output_type": "execute_result"
    }
   ],
   "source": [
    "cursor"
   ]
  },
  {
   "cell_type": "code",
   "execution_count": 5,
   "id": "55b03e69-984a-4a92-9c41-a070aa41f0c5",
   "metadata": {},
   "outputs": [
    {
     "data": {
      "text/plain": [
       "False"
      ]
     },
     "execution_count": 5,
     "metadata": {},
     "output_type": "execute_result"
    }
   ],
   "source": [
    "hasattr(cursor,' ')"
   ]
  },
  {
   "cell_type": "code",
   "execution_count": 6,
   "id": "426881ca-722e-4ffa-be9c-7961ba04d39d",
   "metadata": {},
   "outputs": [],
   "source": [
    "if ',,'.split(',')[0]:\n",
    "    print(\"yes\")"
   ]
  },
  {
   "cell_type": "code",
   "execution_count": null,
   "id": "dd68fe5d-ab9f-4533-b3ef-9b3ba476f3bd",
   "metadata": {},
   "outputs": [],
   "source": []
  }
 ],
 "metadata": {
  "kernelspec": {
   "display_name": "autoferret env",
   "language": "python",
   "name": "autoferret-env"
  },
  "language_info": {
   "codemirror_mode": {
    "name": "ipython",
    "version": 3
   },
   "file_extension": ".py",
   "mimetype": "text/x-python",
   "name": "python",
   "nbconvert_exporter": "python",
   "pygments_lexer": "ipython3",
   "version": "3.10.9"
  }
 },
 "nbformat": 4,
 "nbformat_minor": 5
}
